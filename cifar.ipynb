{
  "nbformat": 4,
  "nbformat_minor": 0,
  "metadata": {
    "colab": {
      "name": "DIP4.ipynb",
      "provenance": []
    },
    "kernelspec": {
      "name": "python3",
      "display_name": "Python 3"
    },
    "accelerator": "GPU"
  },
  "cells": [
    {
      "cell_type": "code",
      "metadata": {
        "id": "VI4YioqOaein"
      },
      "source": [
        "%tensorflow_version 2.x\r\n",
        "import tensorflow as tf\r\n",
        "from tensorflow.keras import datasets, layers, models\r\n",
        "import matplotlib.pyplot as plt\r\n",
        "import numpy as np"
      ],
      "execution_count": null,
      "outputs": []
    },
    {
      "cell_type": "markdown",
      "metadata": {
        "id": "iHvorW9HgPOV"
      },
      "source": [
        ""
      ]
    },
    {
      "cell_type": "markdown",
      "metadata": {
        "id": "hcr1MsQCXrdr"
      },
      "source": [
        "Užkraunami duomenys"
      ]
    },
    {
      "cell_type": "code",
      "metadata": {
        "id": "HnFkUC9Da6I3",
        "colab": {
          "base_uri": "https://localhost:8080/"
        },
        "outputId": "e0512483-1ea0-4cdb-f135-c6395aa6ccb2"
      },
      "source": [
        "(train_images, train_labels), (test_images, test_labels) = datasets.cifar10.load_data()"
      ],
      "execution_count": null,
      "outputs": [
        {
          "output_type": "stream",
          "text": [
            "Downloading data from https://www.cs.toronto.edu/~kriz/cifar-10-python.tar.gz\n",
            "170500096/170498071 [==============================] - 2s 0us/step\n"
          ],
          "name": "stdout"
        }
      ]
    },
    {
      "cell_type": "markdown",
      "metadata": {
        "id": "Ow5a9s8KXcmD"
      },
      "source": [
        "Duomenų normalizavimas:\r\n",
        "RGB [0, 255] -> [0, 1]"
      ]
    },
    {
      "cell_type": "code",
      "metadata": {
        "id": "Uozn-ej3k-HY"
      },
      "source": [
        "train_images, test_images = train_images / 255.0, test_images / 255.0"
      ],
      "execution_count": null,
      "outputs": []
    },
    {
      "cell_type": "markdown",
      "metadata": {
        "id": "8ERMXrFOW34N"
      },
      "source": [
        "Leidžia parinkti santykį tarp mokymo ir testavimo duomenų imčių"
      ]
    },
    {
      "cell_type": "code",
      "metadata": {
        "id": "6qjje5sLSi0k"
      },
      "source": [
        "train_images = np.append(train_images, test_images[:1000], axis=0)\r\n",
        "train_labels = np.append(train_labels, test_labels[:1000], axis=0)\r\n",
        "test_images = test_images[1000:]\r\n",
        "test_labels = test_labels[1000:]"
      ],
      "execution_count": null,
      "outputs": []
    },
    {
      "cell_type": "code",
      "metadata": {
        "id": "ERT53gydXC2z"
      },
      "source": [
        "test_images = np.append(test_images, train_images[:1000], axis=0)\r\n",
        "test_labels = np.append(test_labels, train_labels[:1000], axis=0)\r\n",
        "train_images = train_images[1000:]\r\n",
        "train_labels = train_labels[1000:]"
      ],
      "execution_count": null,
      "outputs": []
    },
    {
      "cell_type": "code",
      "metadata": {
        "colab": {
          "base_uri": "https://localhost:8080/"
        },
        "id": "RFzFQk9napXj",
        "outputId": "c16a0c95-61cc-496f-ede1-4d124e0ba34b"
      },
      "source": [
        "print(train_images.shape)\r\n",
        "print(train_labels.shape)\r\n",
        "print(test_images.shape)\r\n",
        "print(test_labels.shape)"
      ],
      "execution_count": null,
      "outputs": [
        {
          "output_type": "stream",
          "text": [
            "(50000, 32, 32, 3)\n",
            "(50000, 1)\n",
            "(10000, 32, 32, 3)\n",
            "(10000, 1)\n"
          ],
          "name": "stdout"
        }
      ]
    },
    {
      "cell_type": "markdown",
      "metadata": {
        "id": "vAxGltGOfQ26"
      },
      "source": [
        "Iš https://www.cs.toronto.edu/~kriz/cifar.html paiimamos klasės"
      ]
    },
    {
      "cell_type": "code",
      "metadata": {
        "id": "y_N9O3vofECi"
      },
      "source": [
        "classes = ['airplane', 'automobile', 'bird', 'cat', 'deer','dog', 'frog', 'horse', 'ship', 'truck']"
      ],
      "execution_count": null,
      "outputs": []
    },
    {
      "cell_type": "markdown",
      "metadata": {
        "id": "54pzpmqaX89q"
      },
      "source": [
        "# Pirmas modelis"
      ]
    },
    {
      "cell_type": "markdown",
      "metadata": {
        "id": "qG-A7kvsdCde"
      },
      "source": [
        "Keisti hyperparametrų reikšmes (aktyvacijos funkciją epochų skaičių, paketo dydį\r\n",
        "(batch size), optimizavimo algoritmą, nuostolių (loss) funkciją ir kt.),"
      ]
    },
    {
      "cell_type": "code",
      "metadata": {
        "id": "OZz8WIW-Orcl"
      },
      "source": [
        "HP_learningrate = 0.001\r\n",
        "HP_conv2d_activation = 'relu'\r\n",
        "HP_dense_activation = 'relu'\r\n",
        "HP_batchsize = 200\r\n",
        "HP_optimizer = tf.keras.optimizers.Adam(learning_rate=HP_learningrate)\r\n",
        "HP_loss = tf.keras.losses.SparseCategoricalCrossentropy(from_logits=True)\r\n",
        "HP_epochs = 5"
      ],
      "execution_count": null,
      "outputs": []
    },
    {
      "cell_type": "markdown",
      "metadata": {
        "id": "5k-qQHmmX5k0"
      },
      "source": [
        "Tinklo architektūra"
      ]
    },
    {
      "cell_type": "code",
      "metadata": {
        "colab": {
          "base_uri": "https://localhost:8080/"
        },
        "id": "-Iu4_ChoOldW",
        "outputId": "7161e44c-5db3-43c9-d254-93b40129efd4"
      },
      "source": [
        "model = models.Sequential()\r\n",
        "model.add(layers.Conv2D(32, (3, 3), activation=HP_conv2d_activation, input_shape=(32, 32, 3)))\r\n",
        "model.add(layers.MaxPooling2D((2, 2)))\r\n",
        "model.add(layers.Conv2D(64, (3, 3), activation=HP_conv2d_activation))\r\n",
        "model.add(layers.MaxPooling2D((2, 2)))\r\n",
        "model.add(layers.Conv2D(64, (3, 3), activation=HP_conv2d_activation))\r\n",
        "model.add(layers.Flatten())\r\n",
        "model.add(layers.Dense(128, activation=HP_dense_activation))\r\n",
        "model.add(layers.Dense(64, activation=HP_dense_activation))\r\n",
        "model.add(layers.Dense(10))\r\n",
        "model.summary()"
      ],
      "execution_count": null,
      "outputs": [
        {
          "output_type": "stream",
          "text": [
            "Model: \"sequential\"\n",
            "_________________________________________________________________\n",
            "Layer (type)                 Output Shape              Param #   \n",
            "=================================================================\n",
            "conv2d (Conv2D)              (None, 30, 30, 32)        896       \n",
            "_________________________________________________________________\n",
            "max_pooling2d (MaxPooling2D) (None, 15, 15, 32)        0         \n",
            "_________________________________________________________________\n",
            "conv2d_1 (Conv2D)            (None, 13, 13, 64)        18496     \n",
            "_________________________________________________________________\n",
            "max_pooling2d_1 (MaxPooling2 (None, 6, 6, 64)          0         \n",
            "_________________________________________________________________\n",
            "conv2d_2 (Conv2D)            (None, 4, 4, 64)          36928     \n",
            "_________________________________________________________________\n",
            "flatten (Flatten)            (None, 1024)              0         \n",
            "_________________________________________________________________\n",
            "dense (Dense)                (None, 128)               131200    \n",
            "_________________________________________________________________\n",
            "dense_1 (Dense)              (None, 64)                8256      \n",
            "_________________________________________________________________\n",
            "dense_2 (Dense)              (None, 10)                650       \n",
            "=================================================================\n",
            "Total params: 196,426\n",
            "Trainable params: 196,426\n",
            "Non-trainable params: 0\n",
            "_________________________________________________________________\n"
          ],
          "name": "stdout"
        }
      ]
    },
    {
      "cell_type": "code",
      "metadata": {
        "colab": {
          "base_uri": "https://localhost:8080/"
        },
        "id": "8-wpbv_ROuBm",
        "outputId": "29d2b869-3292-411a-b6e5-eb318bbc1bb9"
      },
      "source": [
        "model.compile(optimizer=HP_optimizer,\r\n",
        "              loss=HP_loss,\r\n",
        "              metrics=['accuracy'])\r\n",
        "\r\n",
        "history = model.fit(train_images, \r\n",
        "                    train_labels, \r\n",
        "                    epochs=HP_epochs, \r\n",
        "                    validation_data=(test_images, \r\n",
        "                                     test_labels))"
      ],
      "execution_count": null,
      "outputs": [
        {
          "output_type": "stream",
          "text": [
            "Epoch 1/5\n",
            "1563/1563 [==============================] - 13s 4ms/step - loss: 1.8026 - accuracy: 0.3238 - val_loss: 1.2593 - val_accuracy: 0.5495\n",
            "Epoch 2/5\n",
            "1563/1563 [==============================] - 5s 3ms/step - loss: 1.2142 - accuracy: 0.5664 - val_loss: 1.1150 - val_accuracy: 0.6051\n",
            "Epoch 3/5\n",
            "1563/1563 [==============================] - 5s 3ms/step - loss: 1.0359 - accuracy: 0.6334 - val_loss: 1.0072 - val_accuracy: 0.6499\n",
            "Epoch 4/5\n",
            "1563/1563 [==============================] - 5s 3ms/step - loss: 0.9128 - accuracy: 0.6779 - val_loss: 0.9321 - val_accuracy: 0.6787\n",
            "Epoch 5/5\n",
            "1563/1563 [==============================] - 5s 3ms/step - loss: 0.8210 - accuracy: 0.7095 - val_loss: 0.9110 - val_accuracy: 0.6919\n"
          ],
          "name": "stdout"
        }
      ]
    },
    {
      "cell_type": "code",
      "metadata": {
        "colab": {
          "base_uri": "https://localhost:8080/"
        },
        "id": "4zhp1sfbOxFY",
        "outputId": "af76c357-372c-4046-b598-9a6ed59909e5"
      },
      "source": [
        "test_loss, test_acc = model.evaluate(test_images,  \r\n",
        "                                     test_labels, \r\n",
        "                                     batch_size=HP_batchsize,\r\n",
        "                                     verbose=2)"
      ],
      "execution_count": null,
      "outputs": [
        {
          "output_type": "stream",
          "text": [
            "50/50 - 0s - loss: 0.9110 - accuracy: 0.6919\n"
          ],
          "name": "stdout"
        }
      ]
    },
    {
      "cell_type": "markdown",
      "metadata": {
        "id": "zgMKZZp_YD1a"
      },
      "source": [
        "# Antras modelis"
      ]
    },
    {
      "cell_type": "code",
      "metadata": {
        "id": "xlXb5tSVck5c"
      },
      "source": [
        "HP_learningrate = 0.0001\r\n",
        "HP_conv2d_activation = 'relu'\r\n",
        "HP_dense_activation = 'relu'\r\n",
        "HP_batchsize = 500\r\n",
        "HP_optimizer = tf.keras.optimizers.Adam(learning_rate=HP_learningrate)\r\n",
        "HP_loss = tf.keras.losses.SparseCategoricalCrossentropy(from_logits=True)\r\n",
        "HP_epochs = 10"
      ],
      "execution_count": null,
      "outputs": []
    },
    {
      "cell_type": "code",
      "metadata": {
        "colab": {
          "base_uri": "https://localhost:8080/"
        },
        "id": "sSxUknVkbV8P",
        "outputId": "3c05ae16-66b8-40d5-a09c-d31865282e91"
      },
      "source": [
        "model1 = models.Sequential()\r\n",
        "model1.add(layers.Conv2D(32, (3, 3), activation=HP_conv2d_activation, input_shape=(32, 32, 3)))\r\n",
        "model1.add(layers.MaxPooling2D((3, 3)))\r\n",
        "model1.add(layers.Conv2D(64, (3, 3), activation=HP_conv2d_activation))\r\n",
        "model1.add(layers.MaxPooling2D((2, 2)))\r\n",
        "model1.add(layers.Conv2D(64, (3, 3), activation=HP_conv2d_activation))\r\n",
        "model1.add(layers.Flatten())\r\n",
        "model1.add(layers.Dense(128, activation=HP_dense_activation))\r\n",
        "model1.add(layers.Dense(64, activation=HP_dense_activation))\r\n",
        "model1.add(layers.Dense(32, activation=HP_dense_activation))\r\n",
        "model1.add(layers.Dense(10))\r\n",
        "model1.summary() "
      ],
      "execution_count": null,
      "outputs": [
        {
          "output_type": "stream",
          "text": [
            "Model: \"sequential_1\"\n",
            "_________________________________________________________________\n",
            "Layer (type)                 Output Shape              Param #   \n",
            "=================================================================\n",
            "conv2d_3 (Conv2D)            (None, 30, 30, 32)        896       \n",
            "_________________________________________________________________\n",
            "max_pooling2d_2 (MaxPooling2 (None, 10, 10, 32)        0         \n",
            "_________________________________________________________________\n",
            "conv2d_4 (Conv2D)            (None, 8, 8, 64)          18496     \n",
            "_________________________________________________________________\n",
            "max_pooling2d_3 (MaxPooling2 (None, 4, 4, 64)          0         \n",
            "_________________________________________________________________\n",
            "conv2d_5 (Conv2D)            (None, 2, 2, 64)          36928     \n",
            "_________________________________________________________________\n",
            "flatten_1 (Flatten)          (None, 256)               0         \n",
            "_________________________________________________________________\n",
            "dense_3 (Dense)              (None, 128)               32896     \n",
            "_________________________________________________________________\n",
            "dense_4 (Dense)              (None, 64)                8256      \n",
            "_________________________________________________________________\n",
            "dense_5 (Dense)              (None, 32)                2080      \n",
            "_________________________________________________________________\n",
            "dense_6 (Dense)              (None, 10)                330       \n",
            "=================================================================\n",
            "Total params: 99,882\n",
            "Trainable params: 99,882\n",
            "Non-trainable params: 0\n",
            "_________________________________________________________________\n"
          ],
          "name": "stdout"
        }
      ]
    },
    {
      "cell_type": "code",
      "metadata": {
        "colab": {
          "base_uri": "https://localhost:8080/"
        },
        "id": "dDGjqEKubi4m",
        "outputId": "f87c3f87-03fd-4fc5-e9c7-2f2a0984fc8c"
      },
      "source": [
        "model1.compile(optimizer=HP_optimizer,\r\n",
        "              loss=HP_loss,\r\n",
        "              metrics=['accuracy'])\r\n",
        "\r\n",
        "history1 = model1.fit(train_images, \r\n",
        "                    train_labels, \r\n",
        "                    epochs=HP_epochs, \r\n",
        "                    validation_data=(test_images, \r\n",
        "                                     test_labels))"
      ],
      "execution_count": null,
      "outputs": [
        {
          "output_type": "stream",
          "text": [
            "Epoch 1/10\n",
            "1563/1563 [==============================] - 6s 3ms/step - loss: 2.0301 - accuracy: 0.2309 - val_loss: 1.6005 - val_accuracy: 0.4146\n",
            "Epoch 2/10\n",
            "1563/1563 [==============================] - 5s 3ms/step - loss: 1.5786 - accuracy: 0.4171 - val_loss: 1.4417 - val_accuracy: 0.4652\n",
            "Epoch 3/10\n",
            "1563/1563 [==============================] - 5s 3ms/step - loss: 1.4435 - accuracy: 0.4657 - val_loss: 1.3737 - val_accuracy: 0.4888\n",
            "Epoch 4/10\n",
            "1563/1563 [==============================] - 5s 3ms/step - loss: 1.3740 - accuracy: 0.5008 - val_loss: 1.2926 - val_accuracy: 0.5306\n",
            "Epoch 5/10\n",
            "1563/1563 [==============================] - 5s 3ms/step - loss: 1.2940 - accuracy: 0.5363 - val_loss: 1.2404 - val_accuracy: 0.5568\n",
            "Epoch 6/10\n",
            "1563/1563 [==============================] - 5s 3ms/step - loss: 1.2493 - accuracy: 0.5534 - val_loss: 1.2058 - val_accuracy: 0.5742\n",
            "Epoch 7/10\n",
            "1563/1563 [==============================] - 6s 4ms/step - loss: 1.1882 - accuracy: 0.5721 - val_loss: 1.1755 - val_accuracy: 0.5830\n",
            "Epoch 8/10\n",
            "1563/1563 [==============================] - 5s 3ms/step - loss: 1.1428 - accuracy: 0.5917 - val_loss: 1.1212 - val_accuracy: 0.6009\n",
            "Epoch 9/10\n",
            "1563/1563 [==============================] - 5s 3ms/step - loss: 1.1101 - accuracy: 0.6068 - val_loss: 1.1154 - val_accuracy: 0.6060\n",
            "Epoch 10/10\n",
            "1563/1563 [==============================] - 5s 3ms/step - loss: 1.0826 - accuracy: 0.6164 - val_loss: 1.0804 - val_accuracy: 0.6171\n"
          ],
          "name": "stdout"
        }
      ]
    },
    {
      "cell_type": "code",
      "metadata": {
        "colab": {
          "base_uri": "https://localhost:8080/"
        },
        "id": "YRVv3bIsbkMg",
        "outputId": "297d18c8-19c7-44fa-dab1-bf4ffd9f23c3"
      },
      "source": [
        "test_loss, test_acc = model1.evaluate(test_images,  \r\n",
        "                                     test_labels, \r\n",
        "                                     batch_size=HP_batchsize,\r\n",
        "                                     verbose=2)"
      ],
      "execution_count": null,
      "outputs": [
        {
          "output_type": "stream",
          "text": [
            "20/20 - 0s - loss: 1.0804 - accuracy: 0.6171\n"
          ],
          "name": "stdout"
        }
      ]
    },
    {
      "cell_type": "markdown",
      "metadata": {
        "id": "pUvbqI40Yhcv"
      },
      "source": [
        "# Trečias modelis"
      ]
    },
    {
      "cell_type": "code",
      "metadata": {
        "id": "FBrBaImSYk0w"
      },
      "source": [
        "HP_learningrate = 0.0001\r\n",
        "HP_conv2d_activation = 'relu'\r\n",
        "HP_dense_activation = 'relu'\r\n",
        "HP_batchsize = 1000\r\n",
        "HP_optimizer = tf.keras.optimizers.Adam(learning_rate=HP_learningrate)\r\n",
        "HP_loss = tf.keras.losses.SparseCategoricalCrossentropy(from_logits=True)\r\n",
        "HP_epochs = 10"
      ],
      "execution_count": null,
      "outputs": []
    },
    {
      "cell_type": "code",
      "metadata": {
        "colab": {
          "base_uri": "https://localhost:8080/"
        },
        "id": "lP7KzjnBYhB0",
        "outputId": "f9dfd176-621c-4326-baa6-59c1a544b047"
      },
      "source": [
        "model2 = models.Sequential()\r\n",
        "model2.add(layers.Conv2D(32, (3, 3), activation=HP_conv2d_activation, input_shape=(32, 32, 3)))\r\n",
        "model2.add(layers.MaxPooling2D((2, 2)))\r\n",
        "model2.add(layers.Conv2D(64, (3, 3), activation=HP_conv2d_activation))\r\n",
        "model2.add(layers.MaxPooling2D((2, 2)))\r\n",
        "model2.add(layers.Conv2D(64, (3, 3), activation=HP_conv2d_activation))\r\n",
        "model2.add(layers.Flatten())\r\n",
        "model2.add(layers.Dense(128, activation=HP_dense_activation))\r\n",
        "model2.add(layers.Dense(64, activation=HP_dense_activation))\r\n",
        "model2.add(layers.Dense(10))\r\n",
        "model2.summary()"
      ],
      "execution_count": null,
      "outputs": [
        {
          "output_type": "stream",
          "text": [
            "Model: \"sequential_2\"\n",
            "_________________________________________________________________\n",
            "Layer (type)                 Output Shape              Param #   \n",
            "=================================================================\n",
            "conv2d_6 (Conv2D)            (None, 30, 30, 32)        896       \n",
            "_________________________________________________________________\n",
            "max_pooling2d_4 (MaxPooling2 (None, 15, 15, 32)        0         \n",
            "_________________________________________________________________\n",
            "conv2d_7 (Conv2D)            (None, 13, 13, 64)        18496     \n",
            "_________________________________________________________________\n",
            "max_pooling2d_5 (MaxPooling2 (None, 6, 6, 64)          0         \n",
            "_________________________________________________________________\n",
            "conv2d_8 (Conv2D)            (None, 4, 4, 64)          36928     \n",
            "_________________________________________________________________\n",
            "flatten_2 (Flatten)          (None, 1024)              0         \n",
            "_________________________________________________________________\n",
            "dense_7 (Dense)              (None, 128)               131200    \n",
            "_________________________________________________________________\n",
            "dense_8 (Dense)              (None, 64)                8256      \n",
            "_________________________________________________________________\n",
            "dense_9 (Dense)              (None, 10)                650       \n",
            "=================================================================\n",
            "Total params: 196,426\n",
            "Trainable params: 196,426\n",
            "Non-trainable params: 0\n",
            "_________________________________________________________________\n"
          ],
          "name": "stdout"
        }
      ]
    },
    {
      "cell_type": "code",
      "metadata": {
        "colab": {
          "base_uri": "https://localhost:8080/"
        },
        "id": "mODLGl_AYoeF",
        "outputId": "07577829-258e-402d-ceac-35a412970d34"
      },
      "source": [
        "model2.compile(optimizer=HP_optimizer,\r\n",
        "              loss=HP_loss,\r\n",
        "              metrics=['accuracy'])\r\n",
        "\r\n",
        "history2 = model2.fit(train_images, \r\n",
        "                    train_labels, \r\n",
        "                    epochs=HP_epochs, \r\n",
        "                    validation_data=(test_images, \r\n",
        "                                     test_labels))"
      ],
      "execution_count": null,
      "outputs": [
        {
          "output_type": "stream",
          "text": [
            "Epoch 1/10\n",
            "1563/1563 [==============================] - 6s 3ms/step - loss: 1.9596 - accuracy: 0.2732 - val_loss: 1.5720 - val_accuracy: 0.4178\n",
            "Epoch 2/10\n",
            "1563/1563 [==============================] - 5s 3ms/step - loss: 1.5352 - accuracy: 0.4377 - val_loss: 1.4380 - val_accuracy: 0.4876\n",
            "Epoch 3/10\n",
            "1563/1563 [==============================] - 5s 3ms/step - loss: 1.3896 - accuracy: 0.4983 - val_loss: 1.3198 - val_accuracy: 0.5212\n",
            "Epoch 4/10\n",
            "1563/1563 [==============================] - 5s 3ms/step - loss: 1.2925 - accuracy: 0.5334 - val_loss: 1.2536 - val_accuracy: 0.5484\n",
            "Epoch 5/10\n",
            "1563/1563 [==============================] - 5s 3ms/step - loss: 1.2273 - accuracy: 0.5600 - val_loss: 1.1913 - val_accuracy: 0.5716\n",
            "Epoch 6/10\n",
            "1563/1563 [==============================] - 5s 3ms/step - loss: 1.1786 - accuracy: 0.5835 - val_loss: 1.1643 - val_accuracy: 0.5861\n",
            "Epoch 7/10\n",
            "1563/1563 [==============================] - 5s 3ms/step - loss: 1.1412 - accuracy: 0.5956 - val_loss: 1.1190 - val_accuracy: 0.6078\n",
            "Epoch 8/10\n",
            "1563/1563 [==============================] - 5s 3ms/step - loss: 1.0878 - accuracy: 0.6185 - val_loss: 1.1040 - val_accuracy: 0.6051\n",
            "Epoch 9/10\n",
            "1563/1563 [==============================] - 6s 4ms/step - loss: 1.0416 - accuracy: 0.6335 - val_loss: 1.0675 - val_accuracy: 0.6242\n",
            "Epoch 10/10\n",
            "1563/1563 [==============================] - 5s 3ms/step - loss: 1.0175 - accuracy: 0.6423 - val_loss: 1.0371 - val_accuracy: 0.6346\n"
          ],
          "name": "stdout"
        }
      ]
    },
    {
      "cell_type": "code",
      "metadata": {
        "colab": {
          "base_uri": "https://localhost:8080/"
        },
        "id": "gHZegWiPYpl0",
        "outputId": "682e8429-caff-4a98-e4ed-d667eadcde5e"
      },
      "source": [
        "test_loss, test_acc = model2.evaluate(test_images,  \r\n",
        "                                     test_labels, \r\n",
        "                                     batch_size=HP_batchsize,\r\n",
        "                                     verbose=2)"
      ],
      "execution_count": null,
      "outputs": [
        {
          "output_type": "stream",
          "text": [
            "10/10 - 0s - loss: 1.0371 - accuracy: 0.6346\n"
          ],
          "name": "stdout"
        }
      ]
    },
    {
      "cell_type": "markdown",
      "metadata": {
        "id": "QKkxvyFFaach"
      },
      "source": [
        "# Ketvirtas modelis"
      ]
    },
    {
      "cell_type": "code",
      "metadata": {
        "id": "K-XRDNNYaY7s"
      },
      "source": [
        "HP_learningrate = 0.001\r\n",
        "HP_conv2d_activation = 'relu'\r\n",
        "HP_dense_activation = 'relu'\r\n",
        "HP_batchsize = 1000\r\n",
        "HP_optimizer = tf.keras.optimizers.Adam(learning_rate=HP_learningrate)\r\n",
        "HP_loss = tf.keras.losses.SparseCategoricalCrossentropy(from_logits=True)\r\n",
        "HP_epochs = 10"
      ],
      "execution_count": null,
      "outputs": []
    },
    {
      "cell_type": "code",
      "metadata": {
        "colab": {
          "base_uri": "https://localhost:8080/"
        },
        "id": "m4IB_DmdagHu",
        "outputId": "d7bcdba2-6f71-4029-cd38-68e9f36c16f9"
      },
      "source": [
        "model3 = models.Sequential()\r\n",
        "model3.add(layers.Conv2D(32, (3, 3), activation=HP_conv2d_activation, input_shape=(32, 32, 3)))\r\n",
        "model3.add(layers.MaxPooling2D((2, 2)))\r\n",
        "model3.add(layers.Conv2D(64, (3, 3), activation=HP_conv2d_activation))\r\n",
        "model3.add(layers.MaxPooling2D((2, 2)))\r\n",
        "model3.add(layers.Conv2D(64, (3, 3), activation=HP_conv2d_activation))\r\n",
        "model3.add(layers.Flatten())\r\n",
        "model3.add(layers.Dense(128, activation=HP_dense_activation))\r\n",
        "model3.add(layers.Dense(64, activation=HP_dense_activation))\r\n",
        "model3.add(layers.Dense(10))\r\n",
        "model3.summary()"
      ],
      "execution_count": null,
      "outputs": [
        {
          "output_type": "stream",
          "text": [
            "Model: \"sequential_3\"\n",
            "_________________________________________________________________\n",
            "Layer (type)                 Output Shape              Param #   \n",
            "=================================================================\n",
            "conv2d_9 (Conv2D)            (None, 30, 30, 32)        896       \n",
            "_________________________________________________________________\n",
            "max_pooling2d_6 (MaxPooling2 (None, 15, 15, 32)        0         \n",
            "_________________________________________________________________\n",
            "conv2d_10 (Conv2D)           (None, 13, 13, 64)        18496     \n",
            "_________________________________________________________________\n",
            "max_pooling2d_7 (MaxPooling2 (None, 6, 6, 64)          0         \n",
            "_________________________________________________________________\n",
            "conv2d_11 (Conv2D)           (None, 4, 4, 64)          36928     \n",
            "_________________________________________________________________\n",
            "flatten_3 (Flatten)          (None, 1024)              0         \n",
            "_________________________________________________________________\n",
            "dense_10 (Dense)             (None, 128)               131200    \n",
            "_________________________________________________________________\n",
            "dense_11 (Dense)             (None, 64)                8256      \n",
            "_________________________________________________________________\n",
            "dense_12 (Dense)             (None, 10)                650       \n",
            "=================================================================\n",
            "Total params: 196,426\n",
            "Trainable params: 196,426\n",
            "Non-trainable params: 0\n",
            "_________________________________________________________________\n"
          ],
          "name": "stdout"
        }
      ]
    },
    {
      "cell_type": "code",
      "metadata": {
        "colab": {
          "base_uri": "https://localhost:8080/"
        },
        "id": "fMHGxchHapZB",
        "outputId": "0a5bbbed-21c6-48f1-d700-6f162f090cbe"
      },
      "source": [
        "model3.compile(optimizer=HP_optimizer,\r\n",
        "              loss=HP_loss,\r\n",
        "              metrics=['accuracy'])\r\n",
        "\r\n",
        "history3 = model3.fit(train_images, \r\n",
        "                    train_labels, \r\n",
        "                    epochs=HP_epochs, \r\n",
        "                    validation_data=(test_images, \r\n",
        "                                     test_labels))"
      ],
      "execution_count": null,
      "outputs": [
        {
          "output_type": "stream",
          "text": [
            "Epoch 1/10\n",
            "1563/1563 [==============================] - 6s 3ms/step - loss: 1.7736 - accuracy: 0.3342 - val_loss: 1.3901 - val_accuracy: 0.4967\n",
            "Epoch 2/10\n",
            "1563/1563 [==============================] - 5s 3ms/step - loss: 1.2076 - accuracy: 0.5647 - val_loss: 1.1295 - val_accuracy: 0.5986\n",
            "Epoch 3/10\n",
            "1563/1563 [==============================] - 5s 3ms/step - loss: 1.0088 - accuracy: 0.6420 - val_loss: 1.0310 - val_accuracy: 0.6438\n",
            "Epoch 4/10\n",
            "1563/1563 [==============================] - 5s 3ms/step - loss: 0.8920 - accuracy: 0.6861 - val_loss: 0.9777 - val_accuracy: 0.6595\n",
            "Epoch 5/10\n",
            "1563/1563 [==============================] - 5s 3ms/step - loss: 0.7930 - accuracy: 0.7218 - val_loss: 0.9589 - val_accuracy: 0.6737\n",
            "Epoch 6/10\n",
            "1563/1563 [==============================] - 5s 3ms/step - loss: 0.7195 - accuracy: 0.7477 - val_loss: 0.8773 - val_accuracy: 0.7020\n",
            "Epoch 7/10\n",
            "1563/1563 [==============================] - 5s 3ms/step - loss: 0.6612 - accuracy: 0.7684 - val_loss: 0.9290 - val_accuracy: 0.6985\n",
            "Epoch 8/10\n",
            "1563/1563 [==============================] - 5s 3ms/step - loss: 0.6122 - accuracy: 0.7850 - val_loss: 0.8840 - val_accuracy: 0.7097\n",
            "Epoch 9/10\n",
            "1563/1563 [==============================] - 5s 3ms/step - loss: 0.5574 - accuracy: 0.8034 - val_loss: 0.9133 - val_accuracy: 0.7049\n",
            "Epoch 10/10\n",
            "1563/1563 [==============================] - 5s 3ms/step - loss: 0.5097 - accuracy: 0.8176 - val_loss: 0.9481 - val_accuracy: 0.6962\n"
          ],
          "name": "stdout"
        }
      ]
    },
    {
      "cell_type": "code",
      "metadata": {
        "colab": {
          "base_uri": "https://localhost:8080/"
        },
        "id": "YRg1XYtbaqtY",
        "outputId": "c0fb1f5b-0939-40b4-fc7b-da13e19e8f8e"
      },
      "source": [
        "test_loss, test_acc = model3.evaluate(test_images,  \r\n",
        "                                     test_labels, \r\n",
        "                                     batch_size=HP_batchsize,\r\n",
        "                                     verbose=2)"
      ],
      "execution_count": null,
      "outputs": [
        {
          "output_type": "stream",
          "text": [
            "10/10 - 0s - loss: 0.9481 - accuracy: 0.6962\n"
          ],
          "name": "stdout"
        }
      ]
    },
    {
      "cell_type": "markdown",
      "metadata": {
        "id": "TELivbvzdXOB"
      },
      "source": [
        "# Penktas modelis"
      ]
    },
    {
      "cell_type": "code",
      "metadata": {
        "id": "jOY8ukRCdWDA"
      },
      "source": [
        "HP_learningrate = 0.001\r\n",
        "HP_conv2d_activation = 'relu'\r\n",
        "HP_dense_activation = 'relu'\r\n",
        "HP_batchsize = 200\r\n",
        "HP_optimizer = tf.keras.optimizers.Adam(learning_rate=HP_learningrate)\r\n",
        "HP_loss = tf.keras.losses.SparseCategoricalCrossentropy(from_logits=True)\r\n",
        "HP_epochs = 10"
      ],
      "execution_count": null,
      "outputs": []
    },
    {
      "cell_type": "code",
      "metadata": {
        "colab": {
          "base_uri": "https://localhost:8080/"
        },
        "id": "v3uqzQbndeB2",
        "outputId": "c8b7475e-af99-4645-d142-e894a4e753a8"
      },
      "source": [
        "model4 = models.Sequential()\r\n",
        "model4.add(layers.Conv2D(32, (3, 3), activation=HP_conv2d_activation, input_shape=(32, 32, 3)))\r\n",
        "model4.add(layers.MaxPooling2D((2, 2)))\r\n",
        "model4.add(layers.Conv2D(64, (3, 3), activation=HP_conv2d_activation))\r\n",
        "model4.add(layers.MaxPooling2D((2, 2)))\r\n",
        "model4.add(layers.Conv2D(64, (3, 3), activation=HP_conv2d_activation))\r\n",
        "model4.add(layers.Flatten())\r\n",
        "model4.add(layers.Dense(128, activation=HP_dense_activation))\r\n",
        "model4.add(layers.Dense(64, activation=HP_dense_activation))\r\n",
        "model4.add(layers.Dense(10))\r\n",
        "model4.summary()"
      ],
      "execution_count": null,
      "outputs": [
        {
          "output_type": "stream",
          "text": [
            "Model: \"sequential_4\"\n",
            "_________________________________________________________________\n",
            "Layer (type)                 Output Shape              Param #   \n",
            "=================================================================\n",
            "conv2d_12 (Conv2D)           (None, 30, 30, 32)        896       \n",
            "_________________________________________________________________\n",
            "max_pooling2d_8 (MaxPooling2 (None, 15, 15, 32)        0         \n",
            "_________________________________________________________________\n",
            "conv2d_13 (Conv2D)           (None, 13, 13, 64)        18496     \n",
            "_________________________________________________________________\n",
            "max_pooling2d_9 (MaxPooling2 (None, 6, 6, 64)          0         \n",
            "_________________________________________________________________\n",
            "conv2d_14 (Conv2D)           (None, 4, 4, 64)          36928     \n",
            "_________________________________________________________________\n",
            "flatten_4 (Flatten)          (None, 1024)              0         \n",
            "_________________________________________________________________\n",
            "dense_13 (Dense)             (None, 128)               131200    \n",
            "_________________________________________________________________\n",
            "dense_14 (Dense)             (None, 64)                8256      \n",
            "_________________________________________________________________\n",
            "dense_15 (Dense)             (None, 10)                650       \n",
            "=================================================================\n",
            "Total params: 196,426\n",
            "Trainable params: 196,426\n",
            "Non-trainable params: 0\n",
            "_________________________________________________________________\n"
          ],
          "name": "stdout"
        }
      ]
    },
    {
      "cell_type": "code",
      "metadata": {
        "colab": {
          "base_uri": "https://localhost:8080/"
        },
        "id": "AiOiv0Evdhff",
        "outputId": "038e328c-7e7a-4145-8dee-2381de5f2ef6"
      },
      "source": [
        "model4.compile(optimizer=HP_optimizer,\r\n",
        "              loss=HP_loss,\r\n",
        "              metrics=['accuracy'])\r\n",
        "\r\n",
        "history4 = model4.fit(train_images, \r\n",
        "                    train_labels, \r\n",
        "                    epochs=HP_epochs, \r\n",
        "                    validation_data=(test_images, \r\n",
        "                                     test_labels))"
      ],
      "execution_count": null,
      "outputs": [
        {
          "output_type": "stream",
          "text": [
            "Epoch 1/10\n",
            "1563/1563 [==============================] - 6s 3ms/step - loss: 1.7641 - accuracy: 0.3448 - val_loss: 1.3178 - val_accuracy: 0.5335\n",
            "Epoch 2/10\n",
            "1563/1563 [==============================] - 5s 3ms/step - loss: 1.1840 - accuracy: 0.5783 - val_loss: 1.1024 - val_accuracy: 0.6138\n",
            "Epoch 3/10\n",
            "1563/1563 [==============================] - 5s 3ms/step - loss: 0.9879 - accuracy: 0.6544 - val_loss: 0.9387 - val_accuracy: 0.6786\n",
            "Epoch 4/10\n",
            "1563/1563 [==============================] - 5s 3ms/step - loss: 0.8811 - accuracy: 0.6939 - val_loss: 0.9678 - val_accuracy: 0.6649\n",
            "Epoch 5/10\n",
            "1563/1563 [==============================] - 5s 3ms/step - loss: 0.7879 - accuracy: 0.7232 - val_loss: 0.8757 - val_accuracy: 0.6998\n",
            "Epoch 6/10\n",
            "1563/1563 [==============================] - 5s 3ms/step - loss: 0.7207 - accuracy: 0.7447 - val_loss: 0.8722 - val_accuracy: 0.7044\n",
            "Epoch 7/10\n",
            "1563/1563 [==============================] - 5s 3ms/step - loss: 0.6475 - accuracy: 0.7714 - val_loss: 0.9253 - val_accuracy: 0.6947\n",
            "Epoch 8/10\n",
            "1563/1563 [==============================] - 5s 3ms/step - loss: 0.5975 - accuracy: 0.7884 - val_loss: 0.8890 - val_accuracy: 0.7040\n",
            "Epoch 9/10\n",
            "1563/1563 [==============================] - 5s 3ms/step - loss: 0.5471 - accuracy: 0.8067 - val_loss: 0.9111 - val_accuracy: 0.7147\n",
            "Epoch 10/10\n",
            "1563/1563 [==============================] - 6s 4ms/step - loss: 0.5034 - accuracy: 0.8220 - val_loss: 0.9462 - val_accuracy: 0.7092\n"
          ],
          "name": "stdout"
        }
      ]
    },
    {
      "cell_type": "code",
      "metadata": {
        "colab": {
          "base_uri": "https://localhost:8080/"
        },
        "id": "m819LWSndkZR",
        "outputId": "90e11e7e-35fc-4b8a-ba3a-156a594bae54"
      },
      "source": [
        "test_loss, test_acc = model4.evaluate(test_images,  \r\n",
        "                                     test_labels, \r\n",
        "                                     batch_size=HP_batchsize,\r\n",
        "                                     verbose=2)"
      ],
      "execution_count": null,
      "outputs": [
        {
          "output_type": "stream",
          "text": [
            "50/50 - 0s - loss: 0.9462 - accuracy: 0.7092\n"
          ],
          "name": "stdout"
        }
      ]
    },
    {
      "cell_type": "markdown",
      "metadata": {
        "id": "QThbUnIUYrXv"
      },
      "source": [
        "# Kita"
      ]
    },
    {
      "cell_type": "markdown",
      "metadata": {
        "id": "-q18x0HIYHJ8"
      },
      "source": [
        "Confusion matrix"
      ]
    },
    {
      "cell_type": "code",
      "metadata": {
        "id": "J9ZKepAWrJ_R"
      },
      "source": [
        "preds = np.argmax(model3.predict(test_images), axis=-1)"
      ],
      "execution_count": null,
      "outputs": []
    },
    {
      "cell_type": "code",
      "metadata": {
        "colab": {
          "base_uri": "https://localhost:8080/"
        },
        "id": "_3tEZpmblYHA",
        "outputId": "83803609-5191-445c-e662-bc75fc5f4918"
      },
      "source": [
        "tf.math.confusion_matrix(test_labels, preds)"
      ],
      "execution_count": null,
      "outputs": [
        {
          "output_type": "execute_result",
          "data": {
            "text/plain": [
              "<tf.Tensor: shape=(10, 10), dtype=int32, numpy=\n",
              "array([[768,  43,  47,  10,  13,   4,   5,  10,  71,  28],\n",
              "       [ 15, 928,   7,   3,   0,   2,   6,   1,  19,  42],\n",
              "       [ 71,  23, 601,  64,  79,  34,  53,  41,  20,  13],\n",
              "       [ 24,  42,  84, 477,  57, 132,  78,  36,  29,  30],\n",
              "       [ 30,  12,  73,  59, 623,  39,  47,  89,  23,  14],\n",
              "       [ 17,  26,  68, 198,  42, 512,  27,  71,  17,  21],\n",
              "       [  7,  27,  50,  45,  36,  16, 770,  13,  14,  17],\n",
              "       [ 17,  10,  30,  43,  40,  48,  10, 761,   7,  34],\n",
              "       [ 74,  48,  10,   9,   3,   3,   2,   6, 818,  20],\n",
              "       [ 21, 196,  11,   9,   4,   1,   2,   7,  39, 704]], dtype=int32)>"
            ]
          },
          "metadata": {
            "tags": []
          },
          "execution_count": 29
        }
      ]
    },
    {
      "cell_type": "markdown",
      "metadata": {
        "id": "dySWsw4CYI-P"
      },
      "source": [
        "30 spėjimų"
      ]
    },
    {
      "cell_type": "code",
      "metadata": {
        "colab": {
          "base_uri": "https://localhost:8080/"
        },
        "id": "kHl6kGP7Jhvw",
        "outputId": "b0962e51-acbe-472a-c4f9-a2f25c7bdcea"
      },
      "source": [
        "test_images[:30]\r\n",
        "print(\"Gautos etikėtes:\")\r\n",
        "print(np.argmax(model3.predict(test_images[:30]), axis=-1))\r\n",
        "print((test_labels[:30]))\r\n",
        "print(\"Gauti pilni spėjimai:\")\r\n",
        "print(model3.predict(test_images[:30]))"
      ],
      "execution_count": null,
      "outputs": [
        {
          "output_type": "stream",
          "text": [
            "Gautos etikėtes:\n",
            "[5 0 8 4 8 1 1 8 2 6 0 8 6 1 3 2 1 6 0 4 1 1 0 0 3 5 0 0 6 6]\n",
            "[[5]\n",
            " [0]\n",
            " [8]\n",
            " [4]\n",
            " [8]\n",
            " [1]\n",
            " [1]\n",
            " [8]\n",
            " [9]\n",
            " [6]\n",
            " [0]\n",
            " [8]\n",
            " [6]\n",
            " [1]\n",
            " [3]\n",
            " [4]\n",
            " [1]\n",
            " [6]\n",
            " [0]\n",
            " [5]\n",
            " [1]\n",
            " [1]\n",
            " [0]\n",
            " [0]\n",
            " [3]\n",
            " [5]\n",
            " [0]\n",
            " [0]\n",
            " [6]\n",
            " [6]]\n",
            "Gauti pilni spėjimai:\n",
            "[[-3.31994915e+00 -4.65172863e+00  7.67811239e-01  3.70934820e+00\n",
            "   2.53025889e-02  9.22287750e+00 -4.09243011e+00  1.68092608e+00\n",
            "  -4.01776505e+00 -2.87934732e+00]\n",
            " [ 5.71858215e+00  9.65349615e-01 -2.21446157e-04 -1.99421215e+00\n",
            "  -1.00332427e+00 -4.23365116e+00 -3.35526943e+00 -3.46097493e+00\n",
            "   2.98706007e+00  5.80205441e-01]\n",
            " [ 1.81998706e+00  1.59648466e+00 -5.15179336e-01  2.45711967e-01\n",
            "  -1.50123119e+00 -2.23567796e+00 -3.07379866e+00 -3.45655870e+00\n",
            "   4.76912689e+00 -5.45003265e-03]\n",
            " [-4.11169386e+00 -5.89147568e+00  1.40562320e+00 -3.46775949e-01\n",
            "   6.42686653e+00  2.25603414e+00 -1.23942661e+00  4.48780441e+00\n",
            "  -5.46680737e+00 -4.86539459e+00]\n",
            " [ 3.62879586e+00  2.66734767e+00  2.96709657e-01 -1.52341545e+00\n",
            "  -4.12028837e+00 -6.01693106e+00 -2.89954233e+00 -7.61157465e+00\n",
            "   8.86521053e+00 -1.21505558e+00]\n",
            " [ 2.00574183e+00  1.00728998e+01 -3.39802694e+00 -3.90006852e+00\n",
            "  -7.66410875e+00 -4.48308802e+00 -4.21265507e+00 -7.04856873e+00\n",
            "   5.32556915e+00  8.40531826e+00]\n",
            " [-8.30458641e-01  1.15469828e+01 -4.60646212e-01 -6.36863279e+00\n",
            "  -8.09425831e+00 -8.62364483e+00  6.05001450e-01 -1.12376251e+01\n",
            "   8.75944734e-01  5.45670795e+00]\n",
            " [ 4.33669376e+00 -2.44323015e-01  3.55534220e+00 -2.85027766e+00\n",
            "  -4.69186902e-02 -5.37132788e+00 -3.73181701e+00 -5.23970366e+00\n",
            "   5.04948473e+00 -2.35398722e+00]\n",
            " [-1.25239396e+00  7.10308909e-01  1.92178714e+00 -6.54900253e-01\n",
            "  -3.40098071e+00 -1.52520370e+00 -2.41989151e-01 -2.54628968e+00\n",
            "   7.22495079e-01  1.61524582e+00]\n",
            " [-3.84081388e+00 -2.39026570e+00 -2.85664129e+00  9.44669068e-01\n",
            "  -2.23728895e+00 -1.99131739e+00  5.36659956e+00  2.64982194e-01\n",
            "   2.86876798e-01  6.99372709e-01]\n",
            " [ 1.25930204e+01 -4.66501093e+00  5.32486200e+00 -4.06655729e-01\n",
            "  -1.04587412e+00 -5.42646456e+00 -4.27363443e+00 -7.17651844e+00\n",
            "   2.53201580e+00 -3.38085270e+00]\n",
            " [ 3.19297361e+00 -2.65074444e+00 -2.51597404e+00  9.56166685e-01\n",
            "  -3.84402251e+00 -4.05349493e+00  1.06619596e+00 -5.89643431e+00\n",
            "   1.10926514e+01  2.48551458e-01]\n",
            " [-1.04879344e+00  1.69793224e+00  1.65138590e+00 -1.42703331e+00\n",
            "   1.18362641e+00 -4.28173208e+00  3.21907997e+00 -3.31024194e+00\n",
            "  -5.63659668e+00 -3.63855720e+00]\n",
            " [ 2.25102758e+00  1.32855806e+01 -2.73192167e+00 -6.62181377e+00\n",
            "  -8.22951698e+00 -7.85997486e+00 -1.20053494e+00 -9.13008308e+00\n",
            "   8.32009614e-01  6.07144022e+00]\n",
            " [-3.18349409e+00 -2.22323656e+00  2.06338838e-01  4.33148241e+00\n",
            "   3.66350114e-01  3.03910851e+00 -7.85117820e-02 -2.48659149e-01\n",
            "  -2.68824720e+00 -3.60416293e-01]\n",
            " [-1.08045861e-02 -1.84644461e+00  2.64170122e+00 -8.62942994e-01\n",
            "   2.54024482e+00 -2.49361968e+00 -6.90859258e-01 -2.98261881e+00\n",
            "  -1.69733632e+00  2.21650153e-01]\n",
            " [-6.50575995e-01  1.41280012e+01 -1.64577675e+00 -6.30461550e+00\n",
            "  -1.29229393e+01 -5.11683369e+00 -2.55664062e+00 -9.50863647e+00\n",
            "   3.32918096e+00  7.84517288e+00]\n",
            " [-4.25479078e+00 -1.84092689e+00  7.30601430e-01  2.50294256e+00\n",
            "   1.03927231e+00 -1.91881216e+00  8.42848396e+00 -4.32952118e+00\n",
            "  -3.80693936e+00 -5.37751293e+00]\n",
            " [ 8.72159863e+00 -4.66737986e+00  4.37436104e+00 -9.93768752e-01\n",
            "   5.55150449e-01 -4.45777941e+00 -2.05933976e+00 -5.90531111e+00\n",
            "   3.47802162e+00 -3.10415745e+00]\n",
            " [ 1.76699150e+00 -2.34144092e+00  1.03798580e+00  2.54585719e+00\n",
            "   2.93070245e+00  2.11387944e+00 -1.86347806e+00 -3.45242947e-01\n",
            "  -2.15451169e+00 -2.51382780e+00]\n",
            " [-1.56693220e+00  1.65332241e+01 -4.29114437e+00 -6.44056654e+00\n",
            "  -8.76200771e+00 -8.28929043e+00 -3.72442889e+00 -1.27598515e+01\n",
            "   4.15572596e+00  6.48898506e+00]\n",
            " [ 6.31787395e+00  8.85614204e+00 -2.05972052e+00 -4.99748659e+00\n",
            "  -2.89176393e+00 -1.11261854e+01 -4.13778734e+00 -8.60130501e+00\n",
            "   7.10626006e-01 -3.10337991e-01]\n",
            " [ 5.35999918e+00  3.04220319e-02 -8.64837945e-01  6.91905379e-01\n",
            "  -1.52455163e+00 -3.83293676e+00 -3.21220660e+00 -5.13822222e+00\n",
            "   4.92982197e+00 -1.06280267e+00]\n",
            " [ 5.12691450e+00 -2.50434589e+00  3.52939057e+00 -1.04396403e+00\n",
            "  -1.19020486e+00 -3.71687150e+00 -2.03622651e+00 -2.90364957e+00\n",
            "  -2.64750957e-01 -3.84264183e+00]\n",
            " [-3.89295053e+00 -6.12208605e+00  1.86858833e+00  6.79643297e+00\n",
            "   1.86896491e+00  2.76741767e+00 -7.65527561e-02  1.40129101e+00\n",
            "  -6.28076077e+00 -2.57792902e+00]\n",
            " [-1.43669844e+00 -2.43896008e+00 -5.75936139e-01  5.44659138e+00\n",
            "  -2.85536933e+00  8.56662464e+00 -4.12850475e+00  3.79129767e+00\n",
            "  -4.75052547e+00 -9.96802032e-01]\n",
            " [ 3.53847313e+00  7.47572064e-01 -6.54883265e-01 -2.39404750e+00\n",
            "  -3.30303359e+00 -2.32186222e+00  3.21525359e+00 -4.03478193e+00\n",
            "  -2.59798193e+00 -7.18699157e-01]\n",
            " [ 6.53053570e+00  5.77242196e-01 -2.02141666e+00 -9.50811803e-01\n",
            "  -2.46732426e+00 -3.14308524e+00 -3.95122910e+00 -1.90065658e+00\n",
            "  -1.99305224e+00  2.42943001e+00]\n",
            " [-1.72073019e+00  1.28412199e+00  3.25287461e-01  6.25006139e-01\n",
            "  -1.53213024e+00 -1.71637118e+00  6.17456436e+00 -3.45624804e+00\n",
            "  -3.95653892e+00 -1.79795861e+00]\n",
            " [-2.01456094e+00 -1.07149184e+00 -1.03488065e-01 -1.38730156e+00\n",
            "   1.70718968e-01 -3.56715131e+00  7.65403891e+00 -5.21983862e+00\n",
            "  -3.11874461e+00 -2.96753645e+00]]\n"
          ],
          "name": "stdout"
        }
      ]
    }
  ]
}