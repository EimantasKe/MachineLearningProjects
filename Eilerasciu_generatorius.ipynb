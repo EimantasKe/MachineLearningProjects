{
  "nbformat": 4,
  "nbformat_minor": 0,
  "metadata": {
    "colab": {
      "name": "Eilerasciu generatorius.ipynb",
      "provenance": [],
      "collapsed_sections": []
    },
    "kernelspec": {
      "name": "python3",
      "display_name": "Python 3"
    },
    "accelerator": "GPU"
  },
  "cells": [
    {
      "cell_type": "markdown",
      "metadata": {
        "id": "vvR66IKug_ra"
      },
      "source": [
        "# Eilėraščių generatorius\n",
        "\n",
        "Naudojami Juditos Vaičiūnaitės, Henriko Radausko, Sigito Gedos ir Sigito Parulskio eilėračiai. (89237 simbolių)\n",
        "\n",
        "Sugeneruojamas 800 simbolių \"eilėraštis\" pagal duotą įvestį."
      ]
    },
    {
      "cell_type": "markdown",
      "metadata": {
        "id": "Dj-4nfr8qURx"
      },
      "source": [
        "## Judita Vaičiūnaitė\n",
        "* Tau žemė bus žvaigždė\n",
        "* Gėlės\n",
        "* Balkonas penktame aukšte\n",
        "* Gegužis\n",
        "* Prie Vilnelės\n",
        "* Laumžirgis\n",
        "* Čiuožykla\n",
        "* Sniego drugiai\n",
        "* Šarmos paveikslai\n",
        "* Laumiukė\n",
        "* Lietus\n",
        "* Pilies skersgatvis (M. Bulakos sangvino piešinys)\n",
        "* Vilnelei\n",
        "* Kai laikrodininkas įlips į bokštą\n",
        "* Senieji Nagliai\n",
        "* Dainelė\n",
        "* Poezijai\n",
        "* Keturi portretai\n",
        " * Kirkė\n",
        " * Kalipsė\n",
        " * Nausikaja\n",
        " * Penelopė\n",
        "* Vėtrungės\n",
        "* Gintaras\n",
        "* Zodiakas\n",
        " * Vandenis\n",
        " * Žuvys\n",
        " * Avinas\n",
        " * Jautis\n",
        " * Dvyniai\n",
        " * Vėžys\n",
        " * Liūtas\n",
        " * Mergelė\n",
        " * Svarstyklės\n",
        " * Skorpionas\n",
        " * Šaulys\n",
        " * Ožiaragis\n",
        "* Senoviniai raštaženkliai\n",
        " * Akmuo su pasaga\n",
        " * Akmuo su žalčiais\n",
        " * Akmuo su saulėmis\n",
        "* Dzūkiškas sekmadienis\n",
        "* Miesto vartai\n",
        "* Kiemas su arkadomis\n",
        "* Ant balkono – Ula ir balandžiai\n",
        "* Senoviniai keltininkai Kristoforai...\n",
        "* Pavasaris\n",
        "* Atlydys\n",
        "* Iš vasarinių vaikiškų drabužių\n",
        "* Pirmykštė ugnis\n",
        " * Žvėrinė\n",
        " * Lauksargis\n",
        " * Aušrinė\n",
        " * Bangpūtys\n",
        " * Vėluokas\n",
        " * Žemyna\n",
        " * Laumė\n",
        " * Perkūnas\n",
        " * Upinė\n",
        "* Vilniaus fragmentai\n",
        " * Pilis\n",
        " * Sekmadienį senamiesty\n",
        " * Kopose\n",
        " * Gruzijos mozaika\n",
        " * Trylika strofų (Pagal M. K. Čiurliono „Pasaulio sutvėrimą“)\n",
        " * Mergaitė su šermuonėliu\n",
        "* Nemuno elegijos\n",
        " * Rambynas\n",
        " * Junigeda\n",
        " * Kauno pilis\n",
        " * Medžioklė prie Birštono\n",
        " * Punia\n",
        " * Sieliai\n",
        " * Napoleono kalnas\n",
        " * Adomo Mickevičiaus žvakė\n",
        " * Garlaiviai\n",
        " * Druskininkai\n",
        " * Kaimas\n",
        " * „Lituanica“. Liepos 19\n",
        " * Kulautuva\n",
        " * Paplūdimys\n",
        " * Eskadrilė\n",
        "* Vitražas Vilniaus universitetui\n",
        " * Spaustuvė\n",
        " * Observatorija\n",
        " * Botanikos sodas\n",
        " * Dailininkai\n",
        " * Filomatai\n",
        "* Žiemos paukščiai\n",
        "* Staccato\n",
        "* Vilkdalgi, kvepiantis vasaros vakarą\n",
        "* Kregždė\n",
        "* Koncertas\n",
        "* Žaislai\n",
        "* Delčia\n",
        "* Paukščiai\n",
        " * Pelėda\n",
        " * Aitvaras\n",
        " * Gulbė\n",
        " * Gegutė\n",
        " * Juodvarniai\n",
        "* Kęstutaičiai. Restauracija\n",
        " * Patrikas\n",
        " * Vaidotas\n",
        " * Butautas\n",
        " * Vytautas\n",
        " * Miklausė\n",
        " * Tautvilas\n",
        " * Danutė\n",
        " * Žygimantas\n",
        " * Ringailė\n",
        "* Žąsys\n",
        "* Vaizdas pro langą\n",
        "* Žiemos lietus\n",
        "* Baltoji naktis\n",
        "* Saulėgrąža\n",
        "* Sidabriniai debesys\n",
        "* Elnias devyniaragis\n",
        "* Kernavė\n",
        "* Vytis\n",
        "* Trys gulbės\n",
        "* Per pūgą\n",
        "* Sidabriniai debesys"
      ]
    },
    {
      "cell_type": "markdown",
      "metadata": {
        "id": "cV9jDzWoqc72"
      },
      "source": [
        "## Hernikas Radauskas\n",
        "* Balti malūnai\n",
        "* Gėlė ir vėjas\n",
        "* Lietus"
      ]
    },
    {
      "cell_type": "markdown",
      "metadata": {
        "id": "zw6HAwQGqpyc"
      },
      "source": [
        "## Sigitas Geda\n",
        "* Užmigę žirgeliai\n",
        " * Atnešu rūtos šaką\n",
        " * Vaikai po lelijom\n",
        " * Trobelės prie jūros \n",
        " * Mano broleliai\n",
        " * Vieversėliai\n",
        " * Žalios povės\n",
        " * Jūrų veršiukėlis\n",
        " * Broliai ir saulelės\n",
        " * Užmigę žirgeliai \n",
        " * Putinų žydėjimas\n",
        " * Gyvulėlių skraidymas\n",
        " * Jūrų paukštės\n",
        " * Vėžys ir miežiai\n",
        " * Pirmas pavasarėlis\n",
        " * Pavasarinis ganymas (Albinui Žukauskui)\n",
        " * Nušovė žvirblelį\n",
        " * Žirgai ir lakštuolės \n",
        " * Sesės ir jauteliai\n",
        " * Paukštis be vardo \n",
        " * Rudens naktis\n",
        "* Baltas Niekas, rugiagėlių pėdas \n",
        " * Baltojo Nieko dainelė\n",
        " * Niekas aiškina vaikams, kas yra degtukas\n",
        " * Niekas kalba žiogo balsu\n",
        " * Pupa kaip medis\n",
        " * Niekas rašo laišką senolei\n",
        " * Niekas sutinka jūrų asilėlį\n",
        " * Žmonės atranda Baltojo Nieko avinėlį\n",
        " * Paukščių ir gyvulių viešnagė pas Nieką\n",
        " * Niekas išvysta vėjų papartį\n",
        " *  Niekas gano savuosius žirgelius\n",
        " * Žirgelio prašymas\n",
        " * Stebuklas, kurį patyrė Niekas, pasigavęs žirgelį\n",
        " * Niekas grumiasi su tolimosios žvaigždės graibštukais\n",
        " * Niekas kariauja dėl avinėlio ir jūrų žolės\n",
        " * Penkiaburnio Šešialūpio mirtis\n",
        " * Stebuklai, kuriuos Niekas išvydo jūrų smėly\n",
        " * Ką padarė Geležonas\n",
        " * Niekas mokosi ganyti gyvulius\n",
        " * Niekas uogauja\n",
        " * Niekas gano kiauleles \n",
        "* Baltoji varnelė\n",
        " * Laiškų namelis\n",
        " * Dar vienas pavasarėlis\n",
        " * Juodojo garnio vasara\n",
        " * Ūla – žalioji upė\n",
        " * Riešutai palei Nerį\n",
        " * Ežero salelėj  \n",
        " * Naktis bulvelėms žydint\n",
        " * Daina apie jūros arkliuką\n",
        " * Šimtas jūros arkliukų\n",
        " * Pingvinų pavasaris\n",
        " * Pingvinų dainelė\n",
        " * Arkliukas darželyje\n",
        " * Varnėnų kaime\n",
        " * Raudona šermukšnių pilis\n",
        " * Žiema Snaigyno ežere\n",
        " * Kopūstų raugimas\n",
        " * Vakaras prie televizoriaus\n",
        " * Visiems viena kregždutė\n",
        " * Baltoji varnelė\n",
        " * Vakaro prašymas\n",
        " * Maža mergaitė ir baltoji varnelė\n",
        " * Baltoji varnelė Vilniuje\n",
        " * Vaikai kamuoja varnelę\n",
        " * Motulės daina\n",
        "* Peliuko Miko vasara\n",
        " * Žodis apie peliuką\n",
        " * Peliuko ir jo draugų kelionė pas vaikus\n",
        " * Peliukų mokykla\n",
        " * Senos mašinos (Aisčiui Savukynui)\n",
        " * Pokalbis su peliuku Miku\n",
        " * Pamokymas, kaip taisyti laikrodžius\n",
        " * Tai bent telefonas!\n",
        " * Baltagūžiai kopūstai\n",
        " * Pupų skynimas\n",
        " * Kolorado kariauna\n",
        " * Karakumų asilėlis\n",
        " * Ką rinkti karalium\n",
        " * Žodžių apsauga\n",
        " * Vėžys, kuris mokėjo prašyti\n",
        " * Paršiukas be sparnų\n",
        " * Ėriukas Kaukaze\n",
        " * Sakmė apie ungurį\n",
        " * Eilėraštis apie driežą\n",
        " * Varnelę reikia mylėti\n",
        " * Dovana Mikui – gimtinės mėnulis"
      ]
    },
    {
      "cell_type": "markdown",
      "metadata": {
        "id": "ukluI0CaqzwJ"
      },
      "source": [
        "## Sigitas Parulskis\n",
        "* Marmuras\n",
        "* Kalba\n",
        "* Maršas\n",
        "* Mylėk, Dieve\n",
        "* Žemė švari\n",
        "* Pelenų diena. Leidžiant sulą\n",
        "* Krūmas\n",
        "* Aukščiau gegnes\n",
        "* Pro memoria Gedimono sapnui"
      ]
    },
    {
      "cell_type": "code",
      "metadata": {
        "id": "kf2a-QQiFJ0O"
      },
      "source": [
        "%tensorflow_version 2.x\n",
        "from keras.preprocessing import sequence\n",
        "import keras\n",
        "import tensorflow as tf\n",
        "import os\n",
        "import numpy as np"
      ],
      "execution_count": null,
      "outputs": []
    },
    {
      "cell_type": "code",
      "metadata": {
        "id": "kIBqaqW3tnHj",
        "colab": {
          "base_uri": "https://localhost:8080/",
          "height": 123
        },
        "outputId": "238505da-d33b-4bdc-a79d-a2c5bc03a06b"
      },
      "source": [
        "from google.colab import drive\n",
        "drive.mount('/content/drive')"
      ],
      "execution_count": null,
      "outputs": [
        {
          "output_type": "stream",
          "text": [
            "Go to this URL in a browser: https://accounts.google.com/o/oauth2/auth?client_id=947318989803-6bn6qk8qdgf4n4g3pfee6491hc0brc4i.apps.googleusercontent.com&redirect_uri=urn%3aietf%3awg%3aoauth%3a2.0%3aoob&response_type=code&scope=email%20https%3a%2f%2fwww.googleapis.com%2fauth%2fdocs.test%20https%3a%2f%2fwww.googleapis.com%2fauth%2fdrive%20https%3a%2f%2fwww.googleapis.com%2fauth%2fdrive.photos.readonly%20https%3a%2f%2fwww.googleapis.com%2fauth%2fpeopleapi.readonly\n",
            "\n",
            "Enter your authorization code:\n",
            "··········\n",
            "Mounted at /content/drive\n"
          ],
          "name": "stdout"
        }
      ]
    },
    {
      "cell_type": "code",
      "metadata": {
        "id": "u_4Sg6NkuTu3"
      },
      "source": [
        "# with open('/content/drive/My Drive/Eilerasciai.txt', 'rb') as f: \n",
        "#  text = f.read().decode(encoding='utf-8')"
      ],
      "execution_count": null,
      "outputs": []
    },
    {
      "cell_type": "code",
      "metadata": {
        "id": "3sNQSTxSFKai",
        "colab": {
          "resources": {
            "http://localhost:8080/nbextensions/google.colab/files.js": {
              "data": "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",
              "ok": true,
              "headers": [
                [
                  "content-type",
                  "application/javascript"
                ]
              ],
              "status": 200,
              "status_text": ""
            }
          },
          "base_uri": "https://localhost:8080/",
          "height": 128
        },
        "outputId": "b6a57439-b6d2-461b-f455-5c6d7bd139b7"
      },
      "source": [
        "# Importuoti iš kompiuterio\n",
        "from google.colab import files\n",
        "path_to_file = list(files.upload().keys())[0]\n",
        "text = open(path_to_file, 'rb').read().decode(encoding='utf-8')"
      ],
      "execution_count": null,
      "outputs": [
        {
          "output_type": "display_data",
          "data": {
            "text/html": [
              "\n",
              "     <input type=\"file\" id=\"files-3da53442-62b9-474e-a5a3-3393d72e0ddb\" name=\"files[]\" multiple disabled\n",
              "        style=\"border:none\" />\n",
              "     <output id=\"result-3da53442-62b9-474e-a5a3-3393d72e0ddb\">\n",
              "      Upload widget is only available when the cell has been executed in the\n",
              "      current browser session. Please rerun this cell to enable.\n",
              "      </output>\n",
              "      <script src=\"/nbextensions/google.colab/files.js\"></script> "
            ],
            "text/plain": [
              "<IPython.core.display.HTML object>"
            ]
          },
          "metadata": {
            "tags": []
          }
        },
        {
          "output_type": "stream",
          "text": [
            "Saving Eilerasciai.txt to Eilerasciai.txt\n"
          ],
          "name": "stdout"
        }
      ]
    },
    {
      "cell_type": "code",
      "metadata": {
        "id": "Yyfm-WJ7FTtk"
      },
      "source": [
        "vocab = sorted(set(text))\n",
        "char2idx = {u:i for i, u in enumerate(vocab)}\n",
        "idx2char = np.array(vocab)"
      ],
      "execution_count": null,
      "outputs": []
    },
    {
      "cell_type": "code",
      "metadata": {
        "id": "m4RVxW-hFYXx"
      },
      "source": [
        "def text_to_int(text):\n",
        "  return np.array([char2idx[c] for c in text])"
      ],
      "execution_count": null,
      "outputs": []
    },
    {
      "cell_type": "code",
      "metadata": {
        "id": "QArGHQmmFZYp"
      },
      "source": [
        "text_as_int = text_to_int(text)"
      ],
      "execution_count": null,
      "outputs": []
    },
    {
      "cell_type": "code",
      "metadata": {
        "id": "5ex_jHKuFW9g"
      },
      "source": [
        "def int_to_text(ints):\n",
        "  try:\n",
        "    ints = ints.numpy()\n",
        "  except:\n",
        "    pass\n",
        "  return ''.join(idx2char[ints])"
      ],
      "execution_count": null,
      "outputs": []
    },
    {
      "cell_type": "code",
      "metadata": {
        "id": "1t7d0bpNFbsK"
      },
      "source": [
        "seq_length = 100\n",
        "examples_per_epoch = len(text)//(seq_length+1)\n",
        "char_dataset = tf.data.Dataset.from_tensor_slices(text_as_int)"
      ],
      "execution_count": null,
      "outputs": []
    },
    {
      "cell_type": "code",
      "metadata": {
        "id": "juFEf7mRHC18"
      },
      "source": [
        "sequences = char_dataset.batch(seq_length+1, drop_remainder=True)"
      ],
      "execution_count": null,
      "outputs": []
    },
    {
      "cell_type": "code",
      "metadata": {
        "id": "sbaF_KTeFeAI"
      },
      "source": [
        "def split_input_target(chunk):\n",
        "  input_text = chunk[:-1]\n",
        "  target_text = chunk[1:]\n",
        "  return input_text, target_text"
      ],
      "execution_count": null,
      "outputs": []
    },
    {
      "cell_type": "code",
      "metadata": {
        "id": "9b4JH55XFfNw"
      },
      "source": [
        "dataset = sequences.map(split_input_target)"
      ],
      "execution_count": null,
      "outputs": []
    },
    {
      "cell_type": "code",
      "metadata": {
        "id": "5VAMP85ZFgny"
      },
      "source": [
        "BATCH_SIZE = 64\n",
        "VOCAB_SIZE = len(vocab)\n",
        "EMBEDDING_DIM = 256\n",
        "RNN_UNITS = 1024\n",
        "BUFFER_SIZE = 10000\n",
        " \n",
        "data = dataset.shuffle(BUFFER_SIZE).batch(BATCH_SIZE, drop_remainder=True)"
      ],
      "execution_count": null,
      "outputs": []
    },
    {
      "cell_type": "code",
      "metadata": {
        "id": "qMzctjNfFiff"
      },
      "source": [
        "def build_model(vocab_size, embedding_dim, rnn_units, batch_size):\n",
        "  model = tf.keras.Sequential([\n",
        "                               tf.keras.layers.Embedding(vocab_size, \n",
        "                                                         embedding_dim, \n",
        "                                                         batch_input_shape=[batch_size, None]),\n",
        "                               tf.keras.layers.LSTM(rnn_units,\n",
        "                                                    return_sequences=True,\n",
        "                                                    stateful=True,\n",
        "                                                    recurrent_initializer='glorot_uniform'),\n",
        "                               tf.keras.layers.Dense(vocab_size)\n",
        "                                 ])\n",
        "  return model"
      ],
      "execution_count": null,
      "outputs": []
    },
    {
      "cell_type": "code",
      "metadata": {
        "id": "okwN5qecFkqt"
      },
      "source": [
        "model = build_model(VOCAB_SIZE, EMBEDDING_DIM, RNN_UNITS, BATCH_SIZE)"
      ],
      "execution_count": null,
      "outputs": []
    },
    {
      "cell_type": "code",
      "metadata": {
        "id": "9jMtFI92FmOU"
      },
      "source": [
        "for input_example_batch, target_example_batch in data.take(1):\n",
        "  example_batch_predictions = model(input_example_batch)"
      ],
      "execution_count": null,
      "outputs": []
    },
    {
      "cell_type": "code",
      "metadata": {
        "id": "7eInpD5qHU_G"
      },
      "source": [
        "pred = example_batch_predictions[0]"
      ],
      "execution_count": null,
      "outputs": []
    },
    {
      "cell_type": "code",
      "metadata": {
        "id": "KRZ4VkLrFo_8"
      },
      "source": [
        "sampled_indices = tf.random.categorical(pred, num_samples=1)\n",
        "sampled_indices = np.reshape(sampled_indices, (1, -1))[0]\n",
        "predicted_chars = int_to_text(sampled_indices)"
      ],
      "execution_count": null,
      "outputs": []
    },
    {
      "cell_type": "code",
      "metadata": {
        "id": "XOmiBgKLFtIY"
      },
      "source": [
        "def loss(labels, logits):\n",
        "  return tf.keras.losses.sparse_categorical_crossentropy(labels, logits, from_logits=True)"
      ],
      "execution_count": null,
      "outputs": []
    },
    {
      "cell_type": "code",
      "metadata": {
        "id": "0iUIVeGfFthp"
      },
      "source": [
        "model.compile(optimizer='adam', loss=loss)"
      ],
      "execution_count": null,
      "outputs": []
    },
    {
      "cell_type": "code",
      "metadata": {
        "id": "IjqlCKcsFu6e"
      },
      "source": [
        "checkpoint_dir = './training_checkpoints'\n",
        "checkpoint_prefix = os.path.join(checkpoint_dir, \"ckpt_{epoch}\")\n",
        "checkpoint_callback=tf.keras.callbacks.ModelCheckpoint(\n",
        "    filepath=checkpoint_prefix,\n",
        "    save_weights_only=True)"
      ],
      "execution_count": null,
      "outputs": []
    },
    {
      "cell_type": "code",
      "metadata": {
        "id": "-Zl88DDLFxb_",
        "colab": {
          "base_uri": "https://localhost:8080/",
          "height": 1000
        },
        "outputId": "663efd2b-1208-4852-edf1-f3a3e654a3b2"
      },
      "source": [
        "history = model.fit(data, epochs=200, callbacks=[checkpoint_callback])"
      ],
      "execution_count": null,
      "outputs": [
        {
          "output_type": "stream",
          "text": [
            "Epoch 1/200\n",
            "20/20 [==============================] - 3s 169ms/step - loss: 3.4804\n",
            "Epoch 2/200\n",
            "20/20 [==============================] - 3s 165ms/step - loss: 3.1563\n",
            "Epoch 3/200\n",
            "20/20 [==============================] - 3s 165ms/step - loss: 2.9202\n",
            "Epoch 4/200\n",
            "20/20 [==============================] - 3s 164ms/step - loss: 2.6343\n",
            "Epoch 5/200\n",
            "20/20 [==============================] - 3s 163ms/step - loss: 2.4904\n",
            "Epoch 6/200\n",
            "20/20 [==============================] - 3s 165ms/step - loss: 2.4050\n",
            "Epoch 7/200\n",
            "20/20 [==============================] - 3s 163ms/step - loss: 2.3413\n",
            "Epoch 8/200\n",
            "20/20 [==============================] - 3s 164ms/step - loss: 2.2873\n",
            "Epoch 9/200\n",
            "20/20 [==============================] - 3s 163ms/step - loss: 2.2394\n",
            "Epoch 10/200\n",
            "20/20 [==============================] - 3s 165ms/step - loss: 2.1920\n",
            "Epoch 11/200\n",
            "20/20 [==============================] - 3s 164ms/step - loss: 2.1462\n",
            "Epoch 12/200\n",
            "20/20 [==============================] - 3s 164ms/step - loss: 2.1047\n",
            "Epoch 13/200\n",
            "20/20 [==============================] - 3s 163ms/step - loss: 2.0572\n",
            "Epoch 14/200\n",
            "20/20 [==============================] - 3s 165ms/step - loss: 2.0129\n",
            "Epoch 15/200\n",
            "20/20 [==============================] - 3s 163ms/step - loss: 1.9715\n",
            "Epoch 16/200\n",
            "20/20 [==============================] - 3s 165ms/step - loss: 1.9324\n",
            "Epoch 17/200\n",
            "20/20 [==============================] - 3s 164ms/step - loss: 1.8869\n",
            "Epoch 18/200\n",
            "20/20 [==============================] - 3s 164ms/step - loss: 1.8418\n",
            "Epoch 19/200\n",
            "20/20 [==============================] - 3s 165ms/step - loss: 1.7975\n",
            "Epoch 20/200\n",
            "20/20 [==============================] - 3s 165ms/step - loss: 1.7575\n",
            "Epoch 21/200\n",
            "20/20 [==============================] - 3s 164ms/step - loss: 1.7100\n",
            "Epoch 22/200\n",
            "20/20 [==============================] - 3s 164ms/step - loss: 1.6688\n",
            "Epoch 23/200\n",
            "20/20 [==============================] - 3s 164ms/step - loss: 1.6216\n",
            "Epoch 24/200\n",
            "20/20 [==============================] - 3s 164ms/step - loss: 1.5750\n",
            "Epoch 25/200\n",
            "20/20 [==============================] - 3s 164ms/step - loss: 1.5235\n",
            "Epoch 26/200\n",
            "20/20 [==============================] - 3s 166ms/step - loss: 1.4723\n",
            "Epoch 27/200\n",
            "20/20 [==============================] - 3s 164ms/step - loss: 1.4194\n",
            "Epoch 28/200\n",
            "20/20 [==============================] - 3s 164ms/step - loss: 1.3618\n",
            "Epoch 29/200\n",
            "20/20 [==============================] - 3s 164ms/step - loss: 1.3061\n",
            "Epoch 30/200\n",
            "20/20 [==============================] - 3s 164ms/step - loss: 1.2438\n",
            "Epoch 31/200\n",
            "20/20 [==============================] - 3s 164ms/step - loss: 1.1814\n",
            "Epoch 32/200\n",
            "20/20 [==============================] - 3s 165ms/step - loss: 1.1128\n",
            "Epoch 33/200\n",
            "20/20 [==============================] - 3s 163ms/step - loss: 1.0470\n",
            "Epoch 34/200\n",
            "20/20 [==============================] - 3s 166ms/step - loss: 0.9736\n",
            "Epoch 35/200\n",
            "20/20 [==============================] - 3s 163ms/step - loss: 0.9067\n",
            "Epoch 36/200\n",
            "20/20 [==============================] - 3s 165ms/step - loss: 0.8419\n",
            "Epoch 37/200\n",
            "20/20 [==============================] - 3s 164ms/step - loss: 0.7727\n",
            "Epoch 38/200\n",
            "20/20 [==============================] - 3s 164ms/step - loss: 0.7114\n",
            "Epoch 39/200\n",
            "20/20 [==============================] - 3s 164ms/step - loss: 0.6599\n",
            "Epoch 40/200\n",
            "20/20 [==============================] - 3s 165ms/step - loss: 0.6036\n",
            "Epoch 41/200\n",
            "20/20 [==============================] - 3s 163ms/step - loss: 0.5547\n",
            "Epoch 42/200\n",
            "20/20 [==============================] - 3s 164ms/step - loss: 0.5148\n",
            "Epoch 43/200\n",
            "20/20 [==============================] - 3s 163ms/step - loss: 0.4818\n",
            "Epoch 44/200\n",
            "20/20 [==============================] - 3s 165ms/step - loss: 0.4500\n",
            "Epoch 45/200\n",
            "20/20 [==============================] - 3s 163ms/step - loss: 0.4252\n",
            "Epoch 46/200\n",
            "20/20 [==============================] - 3s 165ms/step - loss: 0.3975\n",
            "Epoch 47/200\n",
            "20/20 [==============================] - 3s 162ms/step - loss: 0.3779\n",
            "Epoch 48/200\n",
            "20/20 [==============================] - 3s 164ms/step - loss: 0.3615\n",
            "Epoch 49/200\n",
            "20/20 [==============================] - 3s 164ms/step - loss: 0.3494\n",
            "Epoch 50/200\n",
            "20/20 [==============================] - 3s 165ms/step - loss: 0.3352\n",
            "Epoch 51/200\n",
            "20/20 [==============================] - 3s 162ms/step - loss: 0.3209\n",
            "Epoch 52/200\n",
            "20/20 [==============================] - 3s 163ms/step - loss: 0.3064\n",
            "Epoch 53/200\n",
            "20/20 [==============================] - 3s 163ms/step - loss: 0.2985\n",
            "Epoch 54/200\n",
            "20/20 [==============================] - 3s 164ms/step - loss: 0.2912\n",
            "Epoch 55/200\n",
            "20/20 [==============================] - 3s 163ms/step - loss: 0.2828\n",
            "Epoch 56/200\n",
            "20/20 [==============================] - 3s 164ms/step - loss: 0.2768\n",
            "Epoch 57/200\n",
            "20/20 [==============================] - 3s 163ms/step - loss: 0.2679\n",
            "Epoch 58/200\n",
            "20/20 [==============================] - 3s 164ms/step - loss: 0.2646\n",
            "Epoch 59/200\n",
            "20/20 [==============================] - 3s 165ms/step - loss: 0.2581\n",
            "Epoch 60/200\n",
            "20/20 [==============================] - 3s 164ms/step - loss: 0.2520\n",
            "Epoch 61/200\n",
            "20/20 [==============================] - 3s 164ms/step - loss: 0.2478\n",
            "Epoch 62/200\n",
            "20/20 [==============================] - 3s 164ms/step - loss: 0.2383\n",
            "Epoch 63/200\n",
            "20/20 [==============================] - 3s 165ms/step - loss: 0.2375\n",
            "Epoch 64/200\n",
            "20/20 [==============================] - 3s 164ms/step - loss: 0.2319\n",
            "Epoch 65/200\n",
            "20/20 [==============================] - 3s 164ms/step - loss: 0.2331\n",
            "Epoch 66/200\n",
            "20/20 [==============================] - 3s 164ms/step - loss: 0.2278\n",
            "Epoch 67/200\n",
            "20/20 [==============================] - 3s 165ms/step - loss: 0.2219\n",
            "Epoch 68/200\n",
            "20/20 [==============================] - 3s 165ms/step - loss: 0.2216\n",
            "Epoch 69/200\n",
            "20/20 [==============================] - 3s 163ms/step - loss: 0.2197\n",
            "Epoch 70/200\n",
            "20/20 [==============================] - 3s 164ms/step - loss: 0.2140\n",
            "Epoch 71/200\n",
            "20/20 [==============================] - 3s 166ms/step - loss: 0.2110\n",
            "Epoch 72/200\n",
            "20/20 [==============================] - 3s 164ms/step - loss: 0.2107\n",
            "Epoch 73/200\n",
            "20/20 [==============================] - 3s 166ms/step - loss: 0.2062\n",
            "Epoch 74/200\n",
            "20/20 [==============================] - 3s 168ms/step - loss: 0.2060\n",
            "Epoch 75/200\n",
            "20/20 [==============================] - 3s 164ms/step - loss: 0.2033\n",
            "Epoch 76/200\n",
            "20/20 [==============================] - 3s 164ms/step - loss: 0.2000\n",
            "Epoch 77/200\n",
            "20/20 [==============================] - 3s 167ms/step - loss: 0.1978\n",
            "Epoch 78/200\n",
            "20/20 [==============================] - 3s 164ms/step - loss: 0.1956\n",
            "Epoch 79/200\n",
            "20/20 [==============================] - 3s 166ms/step - loss: 0.1920\n",
            "Epoch 80/200\n",
            "20/20 [==============================] - 3s 164ms/step - loss: 0.1921\n",
            "Epoch 81/200\n",
            "20/20 [==============================] - 3s 165ms/step - loss: 0.1901\n",
            "Epoch 82/200\n",
            "20/20 [==============================] - 3s 163ms/step - loss: 0.1864\n",
            "Epoch 83/200\n",
            "20/20 [==============================] - 3s 166ms/step - loss: 0.1873\n",
            "Epoch 84/200\n",
            "20/20 [==============================] - 3s 164ms/step - loss: 0.1821\n",
            "Epoch 85/200\n",
            "20/20 [==============================] - 3s 167ms/step - loss: 0.1852\n",
            "Epoch 86/200\n",
            "20/20 [==============================] - 3s 164ms/step - loss: 0.1813\n",
            "Epoch 87/200\n",
            "20/20 [==============================] - 3s 165ms/step - loss: 0.1799\n",
            "Epoch 88/200\n",
            "20/20 [==============================] - 3s 163ms/step - loss: 0.1802\n",
            "Epoch 89/200\n",
            "20/20 [==============================] - 3s 164ms/step - loss: 0.1774\n",
            "Epoch 90/200\n",
            "20/20 [==============================] - 3s 164ms/step - loss: 0.1770\n",
            "Epoch 91/200\n",
            "20/20 [==============================] - 3s 164ms/step - loss: 0.1759\n",
            "Epoch 92/200\n",
            "20/20 [==============================] - 3s 164ms/step - loss: 0.1753\n",
            "Epoch 93/200\n",
            "20/20 [==============================] - 3s 165ms/step - loss: 0.1723\n",
            "Epoch 94/200\n",
            "20/20 [==============================] - 3s 163ms/step - loss: 0.1695\n",
            "Epoch 95/200\n",
            "20/20 [==============================] - 3s 163ms/step - loss: 0.1712\n",
            "Epoch 96/200\n",
            "20/20 [==============================] - 3s 167ms/step - loss: 0.1691\n",
            "Epoch 97/200\n",
            "20/20 [==============================] - 3s 164ms/step - loss: 0.1678\n",
            "Epoch 98/200\n",
            "20/20 [==============================] - 3s 165ms/step - loss: 0.1664\n",
            "Epoch 99/200\n",
            "20/20 [==============================] - 3s 165ms/step - loss: 0.1649\n",
            "Epoch 100/200\n",
            "20/20 [==============================] - 3s 165ms/step - loss: 0.1627\n",
            "Epoch 101/200\n",
            "20/20 [==============================] - 3s 165ms/step - loss: 0.1631\n",
            "Epoch 102/200\n",
            "20/20 [==============================] - 3s 164ms/step - loss: 0.1629\n",
            "Epoch 103/200\n",
            "20/20 [==============================] - 3s 165ms/step - loss: 0.1592\n",
            "Epoch 104/200\n",
            "20/20 [==============================] - 3s 166ms/step - loss: 0.1578\n",
            "Epoch 105/200\n",
            "20/20 [==============================] - 3s 165ms/step - loss: 0.1583\n",
            "Epoch 106/200\n",
            "20/20 [==============================] - 3s 164ms/step - loss: 0.1575\n",
            "Epoch 107/200\n",
            "20/20 [==============================] - 3s 166ms/step - loss: 0.1571\n",
            "Epoch 108/200\n",
            "20/20 [==============================] - 3s 165ms/step - loss: 0.1565\n",
            "Epoch 109/200\n",
            "20/20 [==============================] - 3s 169ms/step - loss: 0.1549\n",
            "Epoch 110/200\n",
            "20/20 [==============================] - 3s 166ms/step - loss: 0.1540\n",
            "Epoch 111/200\n",
            "20/20 [==============================] - 3s 165ms/step - loss: 0.1529\n",
            "Epoch 112/200\n",
            "20/20 [==============================] - 3s 170ms/step - loss: 0.1518\n",
            "Epoch 113/200\n",
            "20/20 [==============================] - 3s 164ms/step - loss: 0.1516\n",
            "Epoch 114/200\n",
            "20/20 [==============================] - 3s 167ms/step - loss: 0.1501\n",
            "Epoch 115/200\n",
            "20/20 [==============================] - 3s 166ms/step - loss: 0.1485\n",
            "Epoch 116/200\n",
            "20/20 [==============================] - 3s 167ms/step - loss: 0.1494\n",
            "Epoch 117/200\n",
            "20/20 [==============================] - 3s 165ms/step - loss: 0.1488\n",
            "Epoch 118/200\n",
            "20/20 [==============================] - 3s 166ms/step - loss: 0.1498\n",
            "Epoch 119/200\n",
            "20/20 [==============================] - 3s 171ms/step - loss: 0.1460\n",
            "Epoch 120/200\n",
            "20/20 [==============================] - 3s 165ms/step - loss: 0.1463\n",
            "Epoch 121/200\n",
            "20/20 [==============================] - 3s 165ms/step - loss: 0.1429\n",
            "Epoch 122/200\n",
            "20/20 [==============================] - 3s 171ms/step - loss: 0.1462\n",
            "Epoch 123/200\n",
            "20/20 [==============================] - 3s 165ms/step - loss: 0.1433\n",
            "Epoch 124/200\n",
            "20/20 [==============================] - 3s 165ms/step - loss: 0.1427\n",
            "Epoch 125/200\n",
            "20/20 [==============================] - 3s 165ms/step - loss: 0.1418\n",
            "Epoch 126/200\n",
            "20/20 [==============================] - 3s 168ms/step - loss: 0.1427\n",
            "Epoch 127/200\n",
            "20/20 [==============================] - 3s 166ms/step - loss: 0.1401\n",
            "Epoch 128/200\n",
            "20/20 [==============================] - 3s 168ms/step - loss: 0.1412\n",
            "Epoch 129/200\n",
            "20/20 [==============================] - 3s 166ms/step - loss: 0.1398\n",
            "Epoch 130/200\n",
            "20/20 [==============================] - 3s 166ms/step - loss: 0.1398\n",
            "Epoch 131/200\n",
            "20/20 [==============================] - 3s 165ms/step - loss: 0.1406\n",
            "Epoch 132/200\n",
            "20/20 [==============================] - 3s 166ms/step - loss: 0.1383\n",
            "Epoch 133/200\n",
            "20/20 [==============================] - 3s 166ms/step - loss: 0.1382\n",
            "Epoch 134/200\n",
            "20/20 [==============================] - 3s 165ms/step - loss: 0.1399\n",
            "Epoch 135/200\n",
            "20/20 [==============================] - 3s 164ms/step - loss: 0.1376\n",
            "Epoch 136/200\n",
            "20/20 [==============================] - 3s 169ms/step - loss: 0.1396\n",
            "Epoch 137/200\n",
            "20/20 [==============================] - 3s 164ms/step - loss: 0.1344\n",
            "Epoch 138/200\n",
            "20/20 [==============================] - 3s 165ms/step - loss: 0.1371\n",
            "Epoch 139/200\n",
            "20/20 [==============================] - 3s 166ms/step - loss: 0.1366\n",
            "Epoch 140/200\n",
            "20/20 [==============================] - 3s 172ms/step - loss: 0.1349\n",
            "Epoch 141/200\n",
            "20/20 [==============================] - 3s 164ms/step - loss: 0.1370\n",
            "Epoch 142/200\n",
            "20/20 [==============================] - 3s 165ms/step - loss: 0.1351\n",
            "Epoch 143/200\n",
            "20/20 [==============================] - 3s 168ms/step - loss: 0.1323\n",
            "Epoch 144/200\n",
            "20/20 [==============================] - 3s 165ms/step - loss: 0.1312\n",
            "Epoch 145/200\n",
            "20/20 [==============================] - 3s 166ms/step - loss: 0.1311\n",
            "Epoch 146/200\n",
            "20/20 [==============================] - 3s 165ms/step - loss: 0.1312\n",
            "Epoch 147/200\n",
            "20/20 [==============================] - 3s 167ms/step - loss: 0.1322\n",
            "Epoch 148/200\n",
            "20/20 [==============================] - 3s 164ms/step - loss: 0.1311\n",
            "Epoch 149/200\n",
            "20/20 [==============================] - 3s 165ms/step - loss: 0.1299\n",
            "Epoch 150/200\n",
            "20/20 [==============================] - 3s 164ms/step - loss: 0.1268\n",
            "Epoch 151/200\n",
            "20/20 [==============================] - 3s 166ms/step - loss: 0.1306\n",
            "Epoch 152/200\n",
            "20/20 [==============================] - 3s 163ms/step - loss: 0.1275\n",
            "Epoch 153/200\n",
            "20/20 [==============================] - 3s 162ms/step - loss: 0.1297\n",
            "Epoch 154/200\n",
            "20/20 [==============================] - 3s 165ms/step - loss: 0.1304\n",
            "Epoch 155/200\n",
            "20/20 [==============================] - 3s 164ms/step - loss: 0.1296\n",
            "Epoch 156/200\n",
            "20/20 [==============================] - 3s 168ms/step - loss: 0.1258\n",
            "Epoch 157/200\n",
            "20/20 [==============================] - 3s 163ms/step - loss: 0.1270\n",
            "Epoch 158/200\n",
            "20/20 [==============================] - 3s 164ms/step - loss: 0.1249\n",
            "Epoch 159/200\n",
            "20/20 [==============================] - 3s 163ms/step - loss: 0.1271\n",
            "Epoch 160/200\n",
            "20/20 [==============================] - 3s 163ms/step - loss: 0.1237\n",
            "Epoch 161/200\n",
            "20/20 [==============================] - 3s 163ms/step - loss: 0.1231\n",
            "Epoch 162/200\n",
            "20/20 [==============================] - 3s 163ms/step - loss: 0.1240\n",
            "Epoch 163/200\n",
            "20/20 [==============================] - 3s 163ms/step - loss: 0.1237\n",
            "Epoch 164/200\n",
            "20/20 [==============================] - 3s 169ms/step - loss: 0.1229\n",
            "Epoch 165/200\n",
            "20/20 [==============================] - 3s 163ms/step - loss: 0.1232\n",
            "Epoch 166/200\n",
            "20/20 [==============================] - 3s 164ms/step - loss: 0.1239\n",
            "Epoch 167/200\n",
            "20/20 [==============================] - 3s 162ms/step - loss: 0.1237\n",
            "Epoch 168/200\n",
            "20/20 [==============================] - 3s 164ms/step - loss: 0.1208\n",
            "Epoch 169/200\n",
            "20/20 [==============================] - 3s 163ms/step - loss: 0.1243\n",
            "Epoch 170/200\n",
            "20/20 [==============================] - 3s 165ms/step - loss: 0.1206\n",
            "Epoch 171/200\n",
            "20/20 [==============================] - 3s 164ms/step - loss: 0.1220\n",
            "Epoch 172/200\n",
            "20/20 [==============================] - 3s 169ms/step - loss: 0.1228\n",
            "Epoch 173/200\n",
            "20/20 [==============================] - 3s 163ms/step - loss: 0.1208\n",
            "Epoch 174/200\n",
            "20/20 [==============================] - 3s 163ms/step - loss: 0.1213\n",
            "Epoch 175/200\n",
            "20/20 [==============================] - 3s 165ms/step - loss: 0.1203\n",
            "Epoch 176/200\n",
            "20/20 [==============================] - 3s 163ms/step - loss: 0.1201\n",
            "Epoch 177/200\n",
            "20/20 [==============================] - 3s 164ms/step - loss: 0.1221\n",
            "Epoch 178/200\n",
            "20/20 [==============================] - 3s 164ms/step - loss: 0.1176\n",
            "Epoch 179/200\n",
            "20/20 [==============================] - 3s 163ms/step - loss: 0.1190\n",
            "Epoch 180/200\n",
            "20/20 [==============================] - 3s 163ms/step - loss: 0.1182\n",
            "Epoch 181/200\n",
            "20/20 [==============================] - 3s 163ms/step - loss: 0.1183\n",
            "Epoch 182/200\n",
            "20/20 [==============================] - 3s 164ms/step - loss: 0.1156\n",
            "Epoch 183/200\n",
            "20/20 [==============================] - 3s 167ms/step - loss: 0.1181\n",
            "Epoch 184/200\n",
            "20/20 [==============================] - 3s 163ms/step - loss: 0.1198\n",
            "Epoch 185/200\n",
            "20/20 [==============================] - 3s 166ms/step - loss: 0.1178\n",
            "Epoch 186/200\n",
            "20/20 [==============================] - 3s 163ms/step - loss: 0.1169\n",
            "Epoch 187/200\n",
            "20/20 [==============================] - 3s 169ms/step - loss: 0.1173\n",
            "Epoch 188/200\n",
            "20/20 [==============================] - 3s 164ms/step - loss: 0.1157\n",
            "Epoch 189/200\n",
            "20/20 [==============================] - 3s 166ms/step - loss: 0.1146\n",
            "Epoch 190/200\n",
            "20/20 [==============================] - 3s 164ms/step - loss: 0.1157\n",
            "Epoch 191/200\n",
            "20/20 [==============================] - 3s 163ms/step - loss: 0.1149\n",
            "Epoch 192/200\n",
            "20/20 [==============================] - 3s 164ms/step - loss: 0.1148\n",
            "Epoch 193/200\n",
            "20/20 [==============================] - 3s 165ms/step - loss: 0.1144\n",
            "Epoch 194/200\n",
            "20/20 [==============================] - 3s 163ms/step - loss: 0.1160\n",
            "Epoch 195/200\n",
            "20/20 [==============================] - 3s 165ms/step - loss: 0.1143\n",
            "Epoch 196/200\n",
            "20/20 [==============================] - 3s 166ms/step - loss: 0.1141\n",
            "Epoch 197/200\n",
            "20/20 [==============================] - 3s 163ms/step - loss: 0.1156\n",
            "Epoch 198/200\n",
            "20/20 [==============================] - 3s 165ms/step - loss: 0.1139\n",
            "Epoch 199/200\n",
            "20/20 [==============================] - 3s 165ms/step - loss: 0.1134\n",
            "Epoch 200/200\n",
            "20/20 [==============================] - 3s 165ms/step - loss: 0.1133\n"
          ],
          "name": "stdout"
        }
      ]
    },
    {
      "cell_type": "code",
      "metadata": {
        "id": "zzRKgYGQFymn"
      },
      "source": [
        "model = build_model(VOCAB_SIZE, EMBEDDING_DIM, RNN_UNITS, batch_size=1)"
      ],
      "execution_count": null,
      "outputs": []
    },
    {
      "cell_type": "code",
      "metadata": {
        "id": "W9lJPd9TF3G3"
      },
      "source": [
        "model.load_weights(tf.train.latest_checkpoint(checkpoint_dir))\n",
        "model.build(tf.TensorShape([1, None]))"
      ],
      "execution_count": null,
      "outputs": []
    },
    {
      "cell_type": "code",
      "metadata": {
        "id": "TTxoOHLYF6s7"
      },
      "source": [
        "def generate_text(model, start_string):\n",
        "  num_generate = 800\n",
        " \n",
        "  input_eval = [char2idx[s] for s in start_string]\n",
        "  input_eval = tf.expand_dims(input_eval, 0)\n",
        "  text_generated = []\n",
        "  temperature = 1.0\n",
        " \n",
        "  model.reset_states()\n",
        "  for i in range(num_generate):\n",
        "      predictions = model(input_eval)\n",
        "      predictions = tf.squeeze(predictions, 0)\n",
        "      predictions = predictions / temperature\n",
        " \n",
        "      predicted_id = tf.random.categorical(predictions, num_samples=1)[-1,0].numpy()\n",
        "      input_eval = tf.expand_dims([predicted_id], 0)\n",
        "      text_generated.append(idx2char[predicted_id])\n",
        " \n",
        "  return (start_string + ''.join(text_generated))"
      ],
      "execution_count": null,
      "outputs": []
    },
    {
      "cell_type": "code",
      "metadata": {
        "id": "EqFTzCOoF6lI",
        "colab": {
          "base_uri": "https://localhost:8080/",
          "height": 34
        },
        "outputId": "21fda54e-9d19-4de9-bdf4-6dadb91d803c"
      },
      "source": [
        "inp = input(\"Type a starting string: \")\n",
        "print(generate_text(model, inp))"
      ],
      "execution_count": null,
      "outputs": [
        {
          "output_type": "stream",
          "text": [
            "Type a starting string: \n"
          ],
          "name": "stdout"
        }
      ]
    }
  ]
}